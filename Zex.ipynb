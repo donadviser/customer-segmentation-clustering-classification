{
 "cells": [
  {
   "cell_type": "code",
   "execution_count": null,
   "metadata": {},
   "outputs": [],
   "source": []
  },
  {
   "cell_type": "markdown",
   "metadata": {},
   "source": [
    "In all your pursuits and achievements, never lose sight of FAMILY. Strive for a balance between work and home. At life’s end, few regret not working more hours but many wish they’d spent more time with loved ones. Don't go through life alone, get a family."
   ]
  }
 ],
 "metadata": {
  "kernelspec": {
   "display_name": "venv311_marketing",
   "language": "python",
   "name": "python3"
  },
  "language_info": {
   "name": "python",
   "version": "3.11.10"
  }
 },
 "nbformat": 4,
 "nbformat_minor": 2
}
