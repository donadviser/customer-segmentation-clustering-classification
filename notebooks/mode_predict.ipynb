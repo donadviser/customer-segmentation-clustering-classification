{
 "cells": [
  {
   "cell_type": "code",
   "execution_count": 40,
   "metadata": {},
   "outputs": [],
   "source": [
    "import pandas as pd\n",
    "import logging\n",
    "import dill\n",
    "import pickle\n",
    "from typing import Tuple, Any\n",
    "from pathlib import Path\n",
    "from typing_extensions import Annotated\n",
    "from model_factory import ModelFactory\n",
    "\n",
    "\n",
    "logging = logging.getLogger(__name__)"
   ]
  },
  {
   "cell_type": "code",
   "execution_count": 26,
   "metadata": {},
   "outputs": [],
   "source": [
    "def load_object(file_path: str) -> object:\n",
    "    logging.info(f\"Entered the load_object method of MainUtils class from: {file_path}\")\n",
    "    try:\n",
    "        with open(file_path, \"rb\") as file_obj:\n",
    "            obj = dill.load(file_obj)\n",
    "        logging.info(f\"Successfully loaded the object from {file_path}\")\n",
    "        logging.info(\"Exited the load_object method of MainUtils class\")\n",
    "        return obj\n",
    "    except Exception as e:\n",
    "        raise e"
   ]
  },
  {
   "cell_type": "code",
   "execution_count": 24,
   "metadata": {},
   "outputs": [],
   "source": [
    "def separate_data(data: pd.DataFrame, target_col: str, yes_no_map=None) -> Tuple[\n",
    "    Annotated[pd.DataFrame, \"Features\"],\n",
    "    Annotated[pd.Series, \"Target\"]\n",
    "    ]:\n",
    "    try:\n",
    "        X = data.drop(columns=[target_col])\n",
    "        y = data[target_col]\n",
    "        if yes_no_map is not None:\n",
    "            y = y.map(yes_no_map)\n",
    "        return X, y\n",
    "    except Exception as e:\n",
    "            raise e"
   ]
  },
  {
   "cell_type": "code",
   "execution_count": 27,
   "metadata": {},
   "outputs": [],
   "source": [
    "def load_bin(path: Path) -> Any:\n",
    "        \"\"\"load binary data\n",
    "\n",
    "        Args:\n",
    "            path (Path): path to binary file\n",
    "\n",
    "        Returns:\n",
    "            Any: object stored in the file\n",
    "        \"\"\"\n",
    "        data = joblib.load(path)\n",
    "        logging.info(f\"binary file loaded from: {path}\")\n",
    "        return data\n"
   ]
  },
  {
   "cell_type": "code",
   "execution_count": null,
   "metadata": {},
   "outputs": [],
   "source": [
    "\n",
    "# load data object from\n",
    "data_train = load_object(\"transformed/train.npz\")\n",
    "data_test = load_object(\"transformed/test.npz\")\n",
    "\n",
    "target_col = \"cluster\""
   ]
  },
  {
   "cell_type": "code",
   "execution_count": 43,
   "metadata": {},
   "outputs": [
    {
     "ename": "ModuleNotFoundError",
     "evalue": "No module named 'marketing.utils'; 'marketing' is not a package",
     "output_type": "error",
     "traceback": [
      "\u001b[0;31m---------------------------------------------------------------------------\u001b[0m",
      "\u001b[0;31mModuleNotFoundError\u001b[0m                       Traceback (most recent call last)",
      "Cell \u001b[0;32mIn[43], line 3\u001b[0m\n\u001b[1;32m      1\u001b[0m file_path \u001b[38;5;241m=\u001b[39m \u001b[38;5;124m\"\u001b[39m\u001b[38;5;124mtransformed/preprocessor_standard.pkl\u001b[39m\u001b[38;5;124m\"\u001b[39m\n\u001b[1;32m      2\u001b[0m \u001b[38;5;28;01mwith\u001b[39;00m \u001b[38;5;28mopen\u001b[39m(file_path, \u001b[38;5;124m\"\u001b[39m\u001b[38;5;124mrb\u001b[39m\u001b[38;5;124m\"\u001b[39m) \u001b[38;5;28;01mas\u001b[39;00m file_obj:\n\u001b[0;32m----> 3\u001b[0m     data \u001b[38;5;241m=\u001b[39m \u001b[43mpickle\u001b[49m\u001b[38;5;241;43m.\u001b[39;49m\u001b[43mload\u001b[49m\u001b[43m(\u001b[49m\u001b[43mfile_obj\u001b[49m\u001b[43m)\u001b[49m\n",
      "\u001b[0;31mModuleNotFoundError\u001b[0m: No module named 'marketing.utils'; 'marketing' is not a package"
     ]
    }
   ],
   "source": [
    "file_path = \"transformed/preprocessor_standard.pkl\"\n",
    "with open(file_path, \"rb\") as file_obj:\n",
    "    data = pickle.load(file_obj)"
   ]
  },
  {
   "cell_type": "code",
   "execution_count": 36,
   "metadata": {},
   "outputs": [
    {
     "ename": "ModuleNotFoundError",
     "evalue": "No module named 'marketing.utils'; 'marketing' is not a package",
     "output_type": "error",
     "traceback": [
      "\u001b[0;31m---------------------------------------------------------------------------\u001b[0m",
      "\u001b[0;31mModuleNotFoundError\u001b[0m                       Traceback (most recent call last)",
      "Cell \u001b[0;32mIn[36], line 5\u001b[0m\n\u001b[1;32m      3\u001b[0m marketing \u001b[38;5;241m=\u001b[39m types\u001b[38;5;241m.\u001b[39mModuleType(\u001b[38;5;124m\"\u001b[39m\u001b[38;5;124mmarketing\u001b[39m\u001b[38;5;124m\"\u001b[39m)\n\u001b[1;32m      4\u001b[0m sys\u001b[38;5;241m.\u001b[39mmodules[\u001b[38;5;124m\"\u001b[39m\u001b[38;5;124mmarketing\u001b[39m\u001b[38;5;124m\"\u001b[39m] \u001b[38;5;241m=\u001b[39m marketing\n\u001b[0;32m----> 5\u001b[0m preprocessor \u001b[38;5;241m=\u001b[39m \u001b[43mjoblib\u001b[49m\u001b[38;5;241;43m.\u001b[39;49m\u001b[43mload\u001b[49m\u001b[43m(\u001b[49m\u001b[38;5;124;43m\"\u001b[39;49m\u001b[38;5;124;43mpreprocessing.pkl\u001b[39;49m\u001b[38;5;124;43m\"\u001b[39;49m\u001b[43m)\u001b[49m\n",
      "File \u001b[0;32m~/.pyenv/versions/3.11.10/envs/venv311_marketing/lib/python3.11/site-packages/joblib/numpy_pickle.py:658\u001b[0m, in \u001b[0;36mload\u001b[0;34m(filename, mmap_mode)\u001b[0m\n\u001b[1;32m    652\u001b[0m             \u001b[38;5;28;01mif\u001b[39;00m \u001b[38;5;28misinstance\u001b[39m(fobj, \u001b[38;5;28mstr\u001b[39m):\n\u001b[1;32m    653\u001b[0m                 \u001b[38;5;66;03m# if the returned file object is a string, this means we\u001b[39;00m\n\u001b[1;32m    654\u001b[0m                 \u001b[38;5;66;03m# try to load a pickle file generated with an version of\u001b[39;00m\n\u001b[1;32m    655\u001b[0m                 \u001b[38;5;66;03m# Joblib so we load it with joblib compatibility function.\u001b[39;00m\n\u001b[1;32m    656\u001b[0m                 \u001b[38;5;28;01mreturn\u001b[39;00m load_compatibility(fobj)\n\u001b[0;32m--> 658\u001b[0m             obj \u001b[38;5;241m=\u001b[39m \u001b[43m_unpickle\u001b[49m\u001b[43m(\u001b[49m\u001b[43mfobj\u001b[49m\u001b[43m,\u001b[49m\u001b[43m \u001b[49m\u001b[43mfilename\u001b[49m\u001b[43m,\u001b[49m\u001b[43m \u001b[49m\u001b[43mmmap_mode\u001b[49m\u001b[43m)\u001b[49m\n\u001b[1;32m    659\u001b[0m \u001b[38;5;28;01mreturn\u001b[39;00m obj\n",
      "File \u001b[0;32m~/.pyenv/versions/3.11.10/envs/venv311_marketing/lib/python3.11/site-packages/joblib/numpy_pickle.py:577\u001b[0m, in \u001b[0;36m_unpickle\u001b[0;34m(fobj, filename, mmap_mode)\u001b[0m\n\u001b[1;32m    575\u001b[0m obj \u001b[38;5;241m=\u001b[39m \u001b[38;5;28;01mNone\u001b[39;00m\n\u001b[1;32m    576\u001b[0m \u001b[38;5;28;01mtry\u001b[39;00m:\n\u001b[0;32m--> 577\u001b[0m     obj \u001b[38;5;241m=\u001b[39m \u001b[43munpickler\u001b[49m\u001b[38;5;241;43m.\u001b[39;49m\u001b[43mload\u001b[49m\u001b[43m(\u001b[49m\u001b[43m)\u001b[49m\n\u001b[1;32m    578\u001b[0m     \u001b[38;5;28;01mif\u001b[39;00m unpickler\u001b[38;5;241m.\u001b[39mcompat_mode:\n\u001b[1;32m    579\u001b[0m         warnings\u001b[38;5;241m.\u001b[39mwarn(\u001b[38;5;124m\"\u001b[39m\u001b[38;5;124mThe file \u001b[39m\u001b[38;5;124m'\u001b[39m\u001b[38;5;132;01m%s\u001b[39;00m\u001b[38;5;124m'\u001b[39m\u001b[38;5;124m has been generated with a \u001b[39m\u001b[38;5;124m\"\u001b[39m\n\u001b[1;32m    580\u001b[0m                       \u001b[38;5;124m\"\u001b[39m\u001b[38;5;124mjoblib version less than 0.10. \u001b[39m\u001b[38;5;124m\"\u001b[39m\n\u001b[1;32m    581\u001b[0m                       \u001b[38;5;124m\"\u001b[39m\u001b[38;5;124mPlease regenerate this pickle file.\u001b[39m\u001b[38;5;124m\"\u001b[39m\n\u001b[1;32m    582\u001b[0m                       \u001b[38;5;241m%\u001b[39m filename,\n\u001b[1;32m    583\u001b[0m                       \u001b[38;5;167;01mDeprecationWarning\u001b[39;00m, stacklevel\u001b[38;5;241m=\u001b[39m\u001b[38;5;241m3\u001b[39m)\n",
      "File \u001b[0;32m~/.pyenv/versions/3.11.10/lib/python3.11/pickle.py:1213\u001b[0m, in \u001b[0;36m_Unpickler.load\u001b[0;34m(self)\u001b[0m\n\u001b[1;32m   1211\u001b[0m             \u001b[38;5;28;01mraise\u001b[39;00m \u001b[38;5;167;01mEOFError\u001b[39;00m\n\u001b[1;32m   1212\u001b[0m         \u001b[38;5;28;01massert\u001b[39;00m \u001b[38;5;28misinstance\u001b[39m(key, bytes_types)\n\u001b[0;32m-> 1213\u001b[0m         \u001b[43mdispatch\u001b[49m\u001b[43m[\u001b[49m\u001b[43mkey\u001b[49m\u001b[43m[\u001b[49m\u001b[38;5;241;43m0\u001b[39;49m\u001b[43m]\u001b[49m\u001b[43m]\u001b[49m\u001b[43m(\u001b[49m\u001b[38;5;28;43mself\u001b[39;49m\u001b[43m)\u001b[49m\n\u001b[1;32m   1214\u001b[0m \u001b[38;5;28;01mexcept\u001b[39;00m _Stop \u001b[38;5;28;01mas\u001b[39;00m stopinst:\n\u001b[1;32m   1215\u001b[0m     \u001b[38;5;28;01mreturn\u001b[39;00m stopinst\u001b[38;5;241m.\u001b[39mvalue\n",
      "File \u001b[0;32m~/.pyenv/versions/3.11.10/lib/python3.11/pickle.py:1538\u001b[0m, in \u001b[0;36m_Unpickler.load_stack_global\u001b[0;34m(self)\u001b[0m\n\u001b[1;32m   1536\u001b[0m \u001b[38;5;28;01mif\u001b[39;00m \u001b[38;5;28mtype\u001b[39m(name) \u001b[38;5;129;01mis\u001b[39;00m \u001b[38;5;129;01mnot\u001b[39;00m \u001b[38;5;28mstr\u001b[39m \u001b[38;5;129;01mor\u001b[39;00m \u001b[38;5;28mtype\u001b[39m(module) \u001b[38;5;129;01mis\u001b[39;00m \u001b[38;5;129;01mnot\u001b[39;00m \u001b[38;5;28mstr\u001b[39m:\n\u001b[1;32m   1537\u001b[0m     \u001b[38;5;28;01mraise\u001b[39;00m UnpicklingError(\u001b[38;5;124m\"\u001b[39m\u001b[38;5;124mSTACK_GLOBAL requires str\u001b[39m\u001b[38;5;124m\"\u001b[39m)\n\u001b[0;32m-> 1538\u001b[0m \u001b[38;5;28mself\u001b[39m\u001b[38;5;241m.\u001b[39mappend(\u001b[38;5;28;43mself\u001b[39;49m\u001b[38;5;241;43m.\u001b[39;49m\u001b[43mfind_class\u001b[49m\u001b[43m(\u001b[49m\u001b[43mmodule\u001b[49m\u001b[43m,\u001b[49m\u001b[43m \u001b[49m\u001b[43mname\u001b[49m\u001b[43m)\u001b[49m)\n",
      "File \u001b[0;32m~/.pyenv/versions/3.11.10/lib/python3.11/pickle.py:1580\u001b[0m, in \u001b[0;36m_Unpickler.find_class\u001b[0;34m(self, module, name)\u001b[0m\n\u001b[1;32m   1578\u001b[0m     \u001b[38;5;28;01melif\u001b[39;00m module \u001b[38;5;129;01min\u001b[39;00m _compat_pickle\u001b[38;5;241m.\u001b[39mIMPORT_MAPPING:\n\u001b[1;32m   1579\u001b[0m         module \u001b[38;5;241m=\u001b[39m _compat_pickle\u001b[38;5;241m.\u001b[39mIMPORT_MAPPING[module]\n\u001b[0;32m-> 1580\u001b[0m \u001b[38;5;28m__import__\u001b[39m(module, level\u001b[38;5;241m=\u001b[39m\u001b[38;5;241m0\u001b[39m)\n\u001b[1;32m   1581\u001b[0m \u001b[38;5;28;01mif\u001b[39;00m \u001b[38;5;28mself\u001b[39m\u001b[38;5;241m.\u001b[39mproto \u001b[38;5;241m>\u001b[39m\u001b[38;5;241m=\u001b[39m \u001b[38;5;241m4\u001b[39m:\n\u001b[1;32m   1582\u001b[0m     \u001b[38;5;28;01mreturn\u001b[39;00m _getattribute(sys\u001b[38;5;241m.\u001b[39mmodules[module], name)[\u001b[38;5;241m0\u001b[39m]\n",
      "\u001b[0;31mModuleNotFoundError\u001b[0m: No module named 'marketing.utils'; 'marketing' is not a package"
     ]
    }
   ],
   "source": [
    "import sys\n",
    "import types\n",
    "marketing = types.ModuleType(\"marketing\")\n",
    "sys.modules[\"marketing\"] = marketing\n",
    "preprocessor = joblib.load(\"preprocessing.pkl\")"
   ]
  },
  {
   "cell_type": "code",
   "execution_count": 5,
   "metadata": {},
   "outputs": [],
   "source": [
    "X_train, y_train = separate_data(data_train, target_col)\n",
    "X_test, y_test = separate_data(data_test, target_col)"
   ]
  },
  {
   "cell_type": "code",
   "execution_count": 6,
   "metadata": {},
   "outputs": [
    {
     "data": {
      "text/html": [
       "<div>\n",
       "<style scoped>\n",
       "    .dataframe tbody tr th:only-of-type {\n",
       "        vertical-align: middle;\n",
       "    }\n",
       "\n",
       "    .dataframe tbody tr th {\n",
       "        vertical-align: top;\n",
       "    }\n",
       "\n",
       "    .dataframe thead th {\n",
       "        text-align: right;\n",
       "    }\n",
       "</style>\n",
       "<table border=\"1\" class=\"dataframe\">\n",
       "  <thead>\n",
       "    <tr style=\"text-align: right;\">\n",
       "      <th></th>\n",
       "      <th>education</th>\n",
       "      <th>complain</th>\n",
       "      <th>response</th>\n",
       "      <th>family_size</th>\n",
       "      <th>offers_responded_to</th>\n",
       "      <th>parental_status</th>\n",
       "      <th>recency</th>\n",
       "      <th>mnt_wines</th>\n",
       "      <th>mnt_fruits</th>\n",
       "      <th>mnt_fish_products</th>\n",
       "      <th>...</th>\n",
       "      <th>num_store_purchases</th>\n",
       "      <th>age</th>\n",
       "      <th>days_as_customer</th>\n",
       "      <th>income</th>\n",
       "      <th>mnt_meat_products</th>\n",
       "      <th>num_deals_purchases</th>\n",
       "      <th>num_web_purchases</th>\n",
       "      <th>num_catalog_purchases</th>\n",
       "      <th>num_web_visits_month</th>\n",
       "      <th>total_spending</th>\n",
       "    </tr>\n",
       "  </thead>\n",
       "  <tbody>\n",
       "    <tr>\n",
       "      <th>0</th>\n",
       "      <td>-0.457391</td>\n",
       "      <td>-0.091876</td>\n",
       "      <td>-0.423938</td>\n",
       "      <td>1.547793</td>\n",
       "      <td>-0.504664</td>\n",
       "      <td>0.63332</td>\n",
       "      <td>0.374521</td>\n",
       "      <td>-0.826301</td>\n",
       "      <td>-0.609869</td>\n",
       "      <td>-0.501902</td>\n",
       "      <td>...</td>\n",
       "      <td>-0.856799</td>\n",
       "      <td>1.407725</td>\n",
       "      <td>-0.039655</td>\n",
       "      <td>-0.771518</td>\n",
       "      <td>-0.741436</td>\n",
       "      <td>0.734052</td>\n",
       "      <td>-0.705440</td>\n",
       "      <td>-0.369482</td>\n",
       "      <td>1.123306</td>\n",
       "      <td>-0.967458</td>\n",
       "    </tr>\n",
       "    <tr>\n",
       "      <th>1</th>\n",
       "      <td>0.530132</td>\n",
       "      <td>-0.091876</td>\n",
       "      <td>-0.423938</td>\n",
       "      <td>0.446703</td>\n",
       "      <td>-0.504664</td>\n",
       "      <td>0.63332</td>\n",
       "      <td>0.615853</td>\n",
       "      <td>-0.472630</td>\n",
       "      <td>-0.660217</td>\n",
       "      <td>-0.557142</td>\n",
       "      <td>...</td>\n",
       "      <td>-0.238192</td>\n",
       "      <td>-0.334833</td>\n",
       "      <td>0.264929</td>\n",
       "      <td>0.113600</td>\n",
       "      <td>0.234534</td>\n",
       "      <td>1.436874</td>\n",
       "      <td>0.189413</td>\n",
       "      <td>0.160492</td>\n",
       "      <td>0.716378</td>\n",
       "      <td>-0.003217</td>\n",
       "    </tr>\n",
       "    <tr>\n",
       "      <th>2</th>\n",
       "      <td>-0.457391</td>\n",
       "      <td>-0.091876</td>\n",
       "      <td>-0.423938</td>\n",
       "      <td>0.446703</td>\n",
       "      <td>0.602262</td>\n",
       "      <td>0.63332</td>\n",
       "      <td>1.270895</td>\n",
       "      <td>-0.387160</td>\n",
       "      <td>-0.408476</td>\n",
       "      <td>0.308277</td>\n",
       "      <td>...</td>\n",
       "      <td>-0.547495</td>\n",
       "      <td>-1.081644</td>\n",
       "      <td>0.657941</td>\n",
       "      <td>-0.331321</td>\n",
       "      <td>0.342067</td>\n",
       "      <td>0.151919</td>\n",
       "      <td>0.824199</td>\n",
       "      <td>0.523276</td>\n",
       "      <td>0.306101</td>\n",
       "      <td>0.097936</td>\n",
       "    </tr>\n",
       "    <tr>\n",
       "      <th>3</th>\n",
       "      <td>-1.444913</td>\n",
       "      <td>-0.091876</td>\n",
       "      <td>-0.423938</td>\n",
       "      <td>-0.654386</td>\n",
       "      <td>-0.504664</td>\n",
       "      <td>0.63332</td>\n",
       "      <td>1.270895</td>\n",
       "      <td>-0.891141</td>\n",
       "      <td>-0.232257</td>\n",
       "      <td>-0.133639</td>\n",
       "      <td>...</td>\n",
       "      <td>-0.856799</td>\n",
       "      <td>-1.330581</td>\n",
       "      <td>1.222896</td>\n",
       "      <td>-0.749342</td>\n",
       "      <td>-0.741436</td>\n",
       "      <td>0.151919</td>\n",
       "      <td>-0.705440</td>\n",
       "      <td>-0.369482</td>\n",
       "      <td>0.306101</td>\n",
       "      <td>-0.603103</td>\n",
       "    </tr>\n",
       "    <tr>\n",
       "      <th>4</th>\n",
       "      <td>0.530132</td>\n",
       "      <td>-0.091876</td>\n",
       "      <td>-0.423938</td>\n",
       "      <td>-0.654386</td>\n",
       "      <td>0.602262</td>\n",
       "      <td>0.63332</td>\n",
       "      <td>-1.383750</td>\n",
       "      <td>0.594277</td>\n",
       "      <td>-0.534346</td>\n",
       "      <td>-0.557142</td>\n",
       "      <td>...</td>\n",
       "      <td>0.380416</td>\n",
       "      <td>1.573683</td>\n",
       "      <td>-0.982883</td>\n",
       "      <td>0.620485</td>\n",
       "      <td>-0.682618</td>\n",
       "      <td>1.136600</td>\n",
       "      <td>1.086691</td>\n",
       "      <td>0.523276</td>\n",
       "      <td>-0.108041</td>\n",
       "      <td>0.381541</td>\n",
       "    </tr>\n",
       "  </tbody>\n",
       "</table>\n",
       "<p>5 rows × 22 columns</p>\n",
       "</div>"
      ],
      "text/plain": [
       "   education  complain  response  family_size  offers_responded_to  \\\n",
       "0  -0.457391 -0.091876 -0.423938     1.547793            -0.504664   \n",
       "1   0.530132 -0.091876 -0.423938     0.446703            -0.504664   \n",
       "2  -0.457391 -0.091876 -0.423938     0.446703             0.602262   \n",
       "3  -1.444913 -0.091876 -0.423938    -0.654386            -0.504664   \n",
       "4   0.530132 -0.091876 -0.423938    -0.654386             0.602262   \n",
       "\n",
       "   parental_status   recency  mnt_wines  mnt_fruits  mnt_fish_products  ...  \\\n",
       "0          0.63332  0.374521  -0.826301   -0.609869          -0.501902  ...   \n",
       "1          0.63332  0.615853  -0.472630   -0.660217          -0.557142  ...   \n",
       "2          0.63332  1.270895  -0.387160   -0.408476           0.308277  ...   \n",
       "3          0.63332  1.270895  -0.891141   -0.232257          -0.133639  ...   \n",
       "4          0.63332 -1.383750   0.594277   -0.534346          -0.557142  ...   \n",
       "\n",
       "   num_store_purchases       age  days_as_customer    income  \\\n",
       "0            -0.856799  1.407725         -0.039655 -0.771518   \n",
       "1            -0.238192 -0.334833          0.264929  0.113600   \n",
       "2            -0.547495 -1.081644          0.657941 -0.331321   \n",
       "3            -0.856799 -1.330581          1.222896 -0.749342   \n",
       "4             0.380416  1.573683         -0.982883  0.620485   \n",
       "\n",
       "   mnt_meat_products  num_deals_purchases  num_web_purchases  \\\n",
       "0          -0.741436             0.734052          -0.705440   \n",
       "1           0.234534             1.436874           0.189413   \n",
       "2           0.342067             0.151919           0.824199   \n",
       "3          -0.741436             0.151919          -0.705440   \n",
       "4          -0.682618             1.136600           1.086691   \n",
       "\n",
       "   num_catalog_purchases  num_web_visits_month  total_spending  \n",
       "0              -0.369482              1.123306       -0.967458  \n",
       "1               0.160492              0.716378       -0.003217  \n",
       "2               0.523276              0.306101        0.097936  \n",
       "3              -0.369482              0.306101       -0.603103  \n",
       "4               0.523276             -0.108041        0.381541  \n",
       "\n",
       "[5 rows x 22 columns]"
      ]
     },
     "execution_count": 6,
     "metadata": {},
     "output_type": "execute_result"
    }
   ],
   "source": [
    "X_train.head()"
   ]
  },
  {
   "cell_type": "code",
   "execution_count": 7,
   "metadata": {},
   "outputs": [],
   "source": [
    "config_path = \"model_config.yaml\""
   ]
  },
  {
   "cell_type": "code",
   "execution_count": 8,
   "metadata": {},
   "outputs": [],
   "source": [
    "# Initialise the ModelFactory\n",
    "model_factory = ModelFactory(config_path)"
   ]
  },
  {
   "cell_type": "code",
   "execution_count": 9,
   "metadata": {},
   "outputs": [
    {
     "name": "stderr",
     "output_type": "stream",
     "text": [
      "[I 2024-11-26 16:50:35,128] A new study created in memory with name: no-name-6263cdcb-9fb1-46c7-8e1e-965f5cdc03ad\n"
     ]
    },
    {
     "name": "stdout",
     "output_type": "stream",
     "text": [
      "Optimising AdaBoostClassifier...\n",
      "model_config: {'module': 'sklearn.ensemble', 'class': 'AdaBoostClassifier', 'short_name': 'AdaBoost', 'parameters': {'n_estimators': {'type': 'int', 'min': 50, 'max': 1000}, 'learning_rate': {'type': 'float', 'min': 0.01, 'max': 1.0, 'log': True}, 'algorithm': 'SAMME'}}...\n",
      "Cross-validation settings: {'CV': 5, 'scoring': 'accuracy', 'random_state': 42}\n",
      "study_config[\"direction\"]: maximize\n",
      "params; {'n_estimators': 919, 'learning_rate': 0.037866605970535656, 'algorithm': 'SAMME'}\n",
      "model_config; {'module': 'sklearn.ensemble', 'class': 'AdaBoostClassifier', 'short_name': 'AdaBoost', 'parameters': {'n_estimators': {'type': 'int', 'min': 50, 'max': 1000}, 'learning_rate': {'type': 'float', 'min': 0.01, 'max': 1.0, 'log': True}, 'algorithm': 'SAMME'}}\n"
     ]
    },
    {
     "name": "stderr",
     "output_type": "stream",
     "text": [
      "[I 2024-11-26 16:50:42,794] Trial 0 finished with value: 0.9425250151724998 and parameters: {'n_estimators': 919, 'learning_rate': 0.037866605970535656}. Best is trial 0 with value: 0.9425250151724998.\n"
     ]
    },
    {
     "name": "stdout",
     "output_type": "stream",
     "text": [
      "params; {'n_estimators': 937, 'learning_rate': 0.34525663748825214, 'algorithm': 'SAMME'}\n",
      "model_config; {'module': 'sklearn.ensemble', 'class': 'AdaBoostClassifier', 'short_name': 'AdaBoost', 'parameters': {'n_estimators': {'type': 'int', 'min': 50, 'max': 1000}, 'learning_rate': {'type': 'float', 'min': 0.01, 'max': 1.0, 'log': True}, 'algorithm': 'SAMME'}}\n"
     ]
    },
    {
     "name": "stderr",
     "output_type": "stream",
     "text": [
      "[I 2024-11-26 16:50:50,042] Trial 1 finished with value: 0.9096310359315914 and parameters: {'n_estimators': 937, 'learning_rate': 0.34525663748825214}. Best is trial 0 with value: 0.9425250151724998.\n"
     ]
    },
    {
     "name": "stdout",
     "output_type": "stream",
     "text": [
      "params; {'n_estimators': 692, 'learning_rate': 0.5515340668528131, 'algorithm': 'SAMME'}\n",
      "model_config; {'module': 'sklearn.ensemble', 'class': 'AdaBoostClassifier', 'short_name': 'AdaBoost', 'parameters': {'n_estimators': {'type': 'int', 'min': 50, 'max': 1000}, 'learning_rate': {'type': 'float', 'min': 0.01, 'max': 1.0, 'log': True}, 'algorithm': 'SAMME'}}\n"
     ]
    },
    {
     "name": "stderr",
     "output_type": "stream",
     "text": [
      "[I 2024-11-26 16:50:55,396] Trial 2 finished with value: 0.9101756897651765 and parameters: {'n_estimators': 692, 'learning_rate': 0.5515340668528131}. Best is trial 0 with value: 0.9425250151724998.\n"
     ]
    },
    {
     "name": "stdout",
     "output_type": "stream",
     "text": [
      "params; {'n_estimators': 552, 'learning_rate': 0.5286105563746923, 'algorithm': 'SAMME'}\n",
      "model_config; {'module': 'sklearn.ensemble', 'class': 'AdaBoostClassifier', 'short_name': 'AdaBoost', 'parameters': {'n_estimators': {'type': 'int', 'min': 50, 'max': 1000}, 'learning_rate': {'type': 'float', 'min': 0.01, 'max': 1.0, 'log': True}, 'algorithm': 'SAMME'}}\n"
     ]
    },
    {
     "name": "stderr",
     "output_type": "stream",
     "text": [
      "[I 2024-11-26 16:50:59,625] Trial 3 finished with value: 0.9218966402639236 and parameters: {'n_estimators': 552, 'learning_rate': 0.5286105563746923}. Best is trial 0 with value: 0.9425250151724998.\n"
     ]
    },
    {
     "name": "stdout",
     "output_type": "stream",
     "text": [
      "params; {'n_estimators': 492, 'learning_rate': 0.4446706045542017, 'algorithm': 'SAMME'}\n",
      "model_config; {'module': 'sklearn.ensemble', 'class': 'AdaBoostClassifier', 'short_name': 'AdaBoost', 'parameters': {'n_estimators': {'type': 'int', 'min': 50, 'max': 1000}, 'learning_rate': {'type': 'float', 'min': 0.01, 'max': 1.0, 'log': True}, 'algorithm': 'SAMME'}}\n"
     ]
    },
    {
     "name": "stderr",
     "output_type": "stream",
     "text": [
      "[I 2024-11-26 16:51:03,636] Trial 4 finished with value: 0.9297007516222904 and parameters: {'n_estimators': 492, 'learning_rate': 0.4446706045542017}. Best is trial 0 with value: 0.9425250151724998.\n"
     ]
    },
    {
     "name": "stdout",
     "output_type": "stream",
     "text": [
      "params; {'n_estimators': 472, 'learning_rate': 0.07783355892357503, 'algorithm': 'SAMME'}\n",
      "model_config; {'module': 'sklearn.ensemble', 'class': 'AdaBoostClassifier', 'short_name': 'AdaBoost', 'parameters': {'n_estimators': {'type': 'int', 'min': 50, 'max': 1000}, 'learning_rate': {'type': 'float', 'min': 0.01, 'max': 1.0, 'log': True}, 'algorithm': 'SAMME'}}\n"
     ]
    },
    {
     "name": "stderr",
     "output_type": "stream",
     "text": [
      "[I 2024-11-26 16:51:07,291] Trial 5 finished with value: 0.9425234590186895 and parameters: {'n_estimators': 472, 'learning_rate': 0.07783355892357503}. Best is trial 0 with value: 0.9425250151724998.\n"
     ]
    },
    {
     "name": "stdout",
     "output_type": "stream",
     "text": [
      "params; {'n_estimators': 607, 'learning_rate': 0.012759928375564207, 'algorithm': 'SAMME'}\n",
      "model_config; {'module': 'sklearn.ensemble', 'class': 'AdaBoostClassifier', 'short_name': 'AdaBoost', 'parameters': {'n_estimators': {'type': 'int', 'min': 50, 'max': 1000}, 'learning_rate': {'type': 'float', 'min': 0.01, 'max': 1.0, 'log': True}, 'algorithm': 'SAMME'}}\n"
     ]
    },
    {
     "name": "stderr",
     "output_type": "stream",
     "text": [
      "[I 2024-11-26 16:51:12,052] Trial 6 finished with value: 0.930808733135183 and parameters: {'n_estimators': 607, 'learning_rate': 0.012759928375564207}. Best is trial 0 with value: 0.9425250151724998.\n"
     ]
    },
    {
     "name": "stdout",
     "output_type": "stream",
     "text": [
      "params; {'n_estimators': 932, 'learning_rate': 0.01192417934220611, 'algorithm': 'SAMME'}\n",
      "model_config; {'module': 'sklearn.ensemble', 'class': 'AdaBoostClassifier', 'short_name': 'AdaBoost', 'parameters': {'n_estimators': {'type': 'int', 'min': 50, 'max': 1000}, 'learning_rate': {'type': 'float', 'min': 0.01, 'max': 1.0, 'log': True}, 'algorithm': 'SAMME'}}\n"
     ]
    },
    {
     "name": "stderr",
     "output_type": "stream",
     "text": [
      "[I 2024-11-26 16:51:19,458] Trial 7 finished with value: 0.9352748945705793 and parameters: {'n_estimators': 932, 'learning_rate': 0.01192417934220611}. Best is trial 0 with value: 0.9425250151724998.\n"
     ]
    },
    {
     "name": "stdout",
     "output_type": "stream",
     "text": [
      "params; {'n_estimators': 119, 'learning_rate': 0.20149612908109946, 'algorithm': 'SAMME'}\n",
      "model_config; {'module': 'sklearn.ensemble', 'class': 'AdaBoostClassifier', 'short_name': 'AdaBoost', 'parameters': {'n_estimators': {'type': 'int', 'min': 50, 'max': 1000}, 'learning_rate': {'type': 'float', 'min': 0.01, 'max': 1.0, 'log': True}, 'algorithm': 'SAMME'}}\n"
     ]
    },
    {
     "name": "stderr",
     "output_type": "stream",
     "text": [
      "[I 2024-11-26 16:51:20,468] Trial 8 finished with value: 0.9419647998008124 and parameters: {'n_estimators': 119, 'learning_rate': 0.20149612908109946}. Best is trial 0 with value: 0.9425250151724998.\n"
     ]
    },
    {
     "name": "stdout",
     "output_type": "stream",
     "text": [
      "params; {'n_estimators': 857, 'learning_rate': 0.5072682441308755, 'algorithm': 'SAMME'}\n",
      "model_config; {'module': 'sklearn.ensemble', 'class': 'AdaBoostClassifier', 'short_name': 'AdaBoost', 'parameters': {'n_estimators': {'type': 'int', 'min': 50, 'max': 1000}, 'learning_rate': {'type': 'float', 'min': 0.01, 'max': 1.0, 'log': True}, 'algorithm': 'SAMME'}}\n"
     ]
    },
    {
     "name": "stderr",
     "output_type": "stream",
     "text": [
      "[I 2024-11-26 16:51:27,541] Trial 9 finished with value: 0.9046062152783183 and parameters: {'n_estimators': 857, 'learning_rate': 0.5072682441308755}. Best is trial 0 with value: 0.9425250151724998.\n"
     ]
    },
    {
     "name": "stdout",
     "output_type": "stream",
     "text": [
      "params; {'n_estimators': 258, 'learning_rate': 0.04269003168203068, 'algorithm': 'SAMME'}\n",
      "model_config; {'module': 'sklearn.ensemble', 'class': 'AdaBoostClassifier', 'short_name': 'AdaBoost', 'parameters': {'n_estimators': {'type': 'int', 'min': 50, 'max': 1000}, 'learning_rate': {'type': 'float', 'min': 0.01, 'max': 1.0, 'log': True}, 'algorithm': 'SAMME'}}\n"
     ]
    },
    {
     "name": "stderr",
     "output_type": "stream",
     "text": [
      "[I 2024-11-26 16:51:29,859] Trial 10 finished with value: 0.9363844322372824 and parameters: {'n_estimators': 258, 'learning_rate': 0.04269003168203068}. Best is trial 0 with value: 0.9425250151724998.\n"
     ]
    },
    {
     "name": "stdout",
     "output_type": "stream",
     "text": [
      "params; {'n_estimators': 367, 'learning_rate': 0.058721263969535836, 'algorithm': 'SAMME'}\n",
      "model_config; {'module': 'sklearn.ensemble', 'class': 'AdaBoostClassifier', 'short_name': 'AdaBoost', 'parameters': {'n_estimators': {'type': 'int', 'min': 50, 'max': 1000}, 'learning_rate': {'type': 'float', 'min': 0.01, 'max': 1.0, 'log': True}, 'algorithm': 'SAMME'}}\n"
     ]
    },
    {
     "name": "stderr",
     "output_type": "stream",
     "text": [
      "[I 2024-11-26 16:51:32,785] Trial 11 finished with value: 0.9375017506730364 and parameters: {'n_estimators': 367, 'learning_rate': 0.058721263969535836}. Best is trial 0 with value: 0.9425250151724998.\n"
     ]
    },
    {
     "name": "stdout",
     "output_type": "stream",
     "text": [
      "params; {'n_estimators': 754, 'learning_rate': 0.035267009457613074, 'algorithm': 'SAMME'}\n",
      "model_config; {'module': 'sklearn.ensemble', 'class': 'AdaBoostClassifier', 'short_name': 'AdaBoost', 'parameters': {'n_estimators': {'type': 'int', 'min': 50, 'max': 1000}, 'learning_rate': {'type': 'float', 'min': 0.01, 'max': 1.0, 'log': True}, 'algorithm': 'SAMME'}}\n"
     ]
    },
    {
     "name": "stderr",
     "output_type": "stream",
     "text": [
      "[I 2024-11-26 16:51:38,886] Trial 12 finished with value: 0.9397348313907348 and parameters: {'n_estimators': 754, 'learning_rate': 0.035267009457613074}. Best is trial 0 with value: 0.9425250151724998.\n"
     ]
    },
    {
     "name": "stdout",
     "output_type": "stream",
     "text": [
      "params; {'n_estimators': 397, 'learning_rate': 0.09611245757140606, 'algorithm': 'SAMME'}\n",
      "model_config; {'module': 'sklearn.ensemble', 'class': 'AdaBoostClassifier', 'short_name': 'AdaBoost', 'parameters': {'n_estimators': {'type': 'int', 'min': 50, 'max': 1000}, 'learning_rate': {'type': 'float', 'min': 0.01, 'max': 1.0, 'log': True}, 'algorithm': 'SAMME'}}\n"
     ]
    },
    {
     "name": "stderr",
     "output_type": "stream",
     "text": [
      "[I 2024-11-26 16:51:41,989] Trial 13 finished with value: 0.9408490375188684 and parameters: {'n_estimators': 397, 'learning_rate': 0.09611245757140606}. Best is trial 0 with value: 0.9425250151724998.\n"
     ]
    },
    {
     "name": "stdout",
     "output_type": "stream",
     "text": [
      "params; {'n_estimators': 753, 'learning_rate': 0.024872936201087905, 'algorithm': 'SAMME'}\n",
      "model_config; {'module': 'sklearn.ensemble', 'class': 'AdaBoostClassifier', 'short_name': 'AdaBoost', 'parameters': {'n_estimators': {'type': 'int', 'min': 50, 'max': 1000}, 'learning_rate': {'type': 'float', 'min': 0.01, 'max': 1.0, 'log': True}, 'algorithm': 'SAMME'}}\n"
     ]
    },
    {
     "name": "stderr",
     "output_type": "stream",
     "text": [
      "[I 2024-11-26 16:51:50,095] Trial 14 finished with value: 0.9397379436983553 and parameters: {'n_estimators': 753, 'learning_rate': 0.024872936201087905}. Best is trial 0 with value: 0.9425250151724998.\n"
     ]
    },
    {
     "name": "stdout",
     "output_type": "stream",
     "text": [
      "params; {'n_estimators': 212, 'learning_rate': 0.12593500953942036, 'algorithm': 'SAMME'}\n",
      "model_config; {'module': 'sklearn.ensemble', 'class': 'AdaBoostClassifier', 'short_name': 'AdaBoost', 'parameters': {'n_estimators': {'type': 'int', 'min': 50, 'max': 1000}, 'learning_rate': {'type': 'float', 'min': 0.01, 'max': 1.0, 'log': True}, 'algorithm': 'SAMME'}}\n"
     ]
    },
    {
     "name": "stderr",
     "output_type": "stream",
     "text": [
      "[I 2024-11-26 16:51:52,083] Trial 15 finished with value: 0.942520346711069 and parameters: {'n_estimators': 212, 'learning_rate': 0.12593500953942036}. Best is trial 0 with value: 0.9425250151724998.\n"
     ]
    },
    {
     "name": "stdout",
     "output_type": "stream",
     "text": [
      "params; {'n_estimators': 420, 'learning_rate': 0.07957983364839448, 'algorithm': 'SAMME'}\n",
      "model_config; {'module': 'sklearn.ensemble', 'class': 'AdaBoostClassifier', 'short_name': 'AdaBoost', 'parameters': {'n_estimators': {'type': 'int', 'min': 50, 'max': 1000}, 'learning_rate': {'type': 'float', 'min': 0.01, 'max': 1.0, 'log': True}, 'algorithm': 'SAMME'}}\n"
     ]
    },
    {
     "name": "stderr",
     "output_type": "stream",
     "text": [
      "[I 2024-11-26 16:51:55,805] Trial 16 finished with value: 0.9430821182365665 and parameters: {'n_estimators': 420, 'learning_rate': 0.07957983364839448}. Best is trial 16 with value: 0.9430821182365665.\n"
     ]
    },
    {
     "name": "stdout",
     "output_type": "stream",
     "text": [
      "params; {'n_estimators': 316, 'learning_rate': 0.021538839072600055, 'algorithm': 'SAMME'}\n",
      "model_config; {'module': 'sklearn.ensemble', 'class': 'AdaBoostClassifier', 'short_name': 'AdaBoost', 'parameters': {'n_estimators': {'type': 'int', 'min': 50, 'max': 1000}, 'learning_rate': {'type': 'float', 'min': 0.01, 'max': 1.0, 'log': True}, 'algorithm': 'SAMME'}}\n"
     ]
    },
    {
     "name": "stderr",
     "output_type": "stream",
     "text": [
      "[I 2024-11-26 16:51:58,476] Trial 17 finished with value: 0.9263487963150278 and parameters: {'n_estimators': 316, 'learning_rate': 0.021538839072600055}. Best is trial 16 with value: 0.9430821182365665.\n"
     ]
    },
    {
     "name": "stdout",
     "output_type": "stream",
     "text": [
      "params; {'n_estimators': 674, 'learning_rate': 0.17361132657319867, 'algorithm': 'SAMME'}\n",
      "model_config; {'module': 'sklearn.ensemble', 'class': 'AdaBoostClassifier', 'short_name': 'AdaBoost', 'parameters': {'n_estimators': {'type': 'int', 'min': 50, 'max': 1000}, 'learning_rate': {'type': 'float', 'min': 0.01, 'max': 1.0, 'log': True}, 'algorithm': 'SAMME'}}\n"
     ]
    },
    {
     "name": "stderr",
     "output_type": "stream",
     "text": [
      "[I 2024-11-26 16:52:04,030] Trial 18 finished with value: 0.9380604098909137 and parameters: {'n_estimators': 674, 'learning_rate': 0.17361132657319867}. Best is trial 16 with value: 0.9430821182365665.\n"
     ]
    },
    {
     "name": "stdout",
     "output_type": "stream",
     "text": [
      "params; {'n_estimators': 90, 'learning_rate': 0.05310706483172514, 'algorithm': 'SAMME'}\n",
      "model_config; {'module': 'sklearn.ensemble', 'class': 'AdaBoostClassifier', 'short_name': 'AdaBoost', 'parameters': {'n_estimators': {'type': 'int', 'min': 50, 'max': 1000}, 'learning_rate': {'type': 'float', 'min': 0.01, 'max': 1.0, 'log': True}, 'algorithm': 'SAMME'}}\n"
     ]
    },
    {
     "name": "stderr",
     "output_type": "stream",
     "text": [
      "[I 2024-11-26 16:52:04,779] Trial 19 finished with value: 0.9263472401612176 and parameters: {'n_estimators': 90, 'learning_rate': 0.05310706483172514}. Best is trial 16 with value: 0.9430821182365665.\n",
      "[I 2024-11-26 16:52:04,780] A new study created in memory with name: no-name-3c23f0fe-8850-4935-b381-3cc41d4b6cc0\n"
     ]
    },
    {
     "name": "stdout",
     "output_type": "stream",
     "text": [
      "params; {'n_estimators': 420, 'learning_rate': 0.07957983364839448, 'algorithm': 'SAMME'}\n",
      "model_config; {'module': 'sklearn.ensemble', 'class': 'AdaBoostClassifier', 'short_name': 'AdaBoost', 'parameters': {'n_estimators': {'type': 'int', 'min': 50, 'max': 1000}, 'learning_rate': {'type': 'float', 'min': 0.01, 'max': 1.0, 'log': True}, 'algorithm': 'SAMME'}}\n",
      "Best AdaBoostClassifier Params: {'n_estimators': 420, 'learning_rate': 0.07957983364839448}\n",
      "Best AdaBoostClassifier Score: 0.9431\n",
      "Optimising RandomForestClassifier...\n",
      "model_config: {'module': 'sklearn.ensemble', 'class': 'RandomForestClassifier', 'short_name': 'RandomForest', 'parameters': {'n_estimators': {'type': 'int', 'min': 50, 'max': 300}, 'max_depth': {'type': 'int', 'min': 2, 'max': 30}, 'min_samples_split': {'type': 'int', 'min': 2, 'max': 20}, 'min_samples_leaf': {'type': 'int', 'min': 1, 'max': 20}}}...\n",
      "Cross-validation settings: {'CV': 5, 'scoring': 'accuracy', 'random_state': 42}\n",
      "study_config[\"direction\"]: maximize\n",
      "params; {'n_estimators': 104, 'max_depth': 14, 'min_samples_split': 7, 'min_samples_leaf': 10}\n",
      "model_config; {'module': 'sklearn.ensemble', 'class': 'RandomForestClassifier', 'short_name': 'RandomForest', 'parameters': {'n_estimators': {'type': 'int', 'min': 50, 'max': 300}, 'max_depth': {'type': 'int', 'min': 2, 'max': 30}, 'min_samples_split': {'type': 'int', 'min': 2, 'max': 20}, 'min_samples_leaf': {'type': 'int', 'min': 1, 'max': 20}}}\n"
     ]
    },
    {
     "name": "stderr",
     "output_type": "stream",
     "text": [
      "[I 2024-11-26 16:52:05,394] Trial 0 finished with value: 0.9542475218250572 and parameters: {'n_estimators': 104, 'max_depth': 14, 'min_samples_split': 7, 'min_samples_leaf': 10}. Best is trial 0 with value: 0.9542475218250572.\n"
     ]
    },
    {
     "name": "stdout",
     "output_type": "stream",
     "text": [
      "params; {'n_estimators': 81, 'max_depth': 26, 'min_samples_split': 12, 'min_samples_leaf': 9}\n",
      "model_config; {'module': 'sklearn.ensemble', 'class': 'RandomForestClassifier', 'short_name': 'RandomForest', 'parameters': {'n_estimators': {'type': 'int', 'min': 50, 'max': 300}, 'max_depth': {'type': 'int', 'min': 2, 'max': 30}, 'min_samples_split': {'type': 'int', 'min': 2, 'max': 20}, 'min_samples_leaf': {'type': 'int', 'min': 1, 'max': 20}}}\n"
     ]
    },
    {
     "name": "stderr",
     "output_type": "stream",
     "text": [
      "[I 2024-11-26 16:52:05,884] Trial 1 finished with value: 0.950903347286846 and parameters: {'n_estimators': 81, 'max_depth': 26, 'min_samples_split': 12, 'min_samples_leaf': 9}. Best is trial 0 with value: 0.9542475218250572.\n"
     ]
    },
    {
     "name": "stdout",
     "output_type": "stream",
     "text": [
      "params; {'n_estimators': 94, 'max_depth': 26, 'min_samples_split': 10, 'min_samples_leaf': 10}\n",
      "model_config; {'module': 'sklearn.ensemble', 'class': 'RandomForestClassifier', 'short_name': 'RandomForest', 'parameters': {'n_estimators': {'type': 'int', 'min': 50, 'max': 300}, 'max_depth': {'type': 'int', 'min': 2, 'max': 30}, 'min_samples_split': {'type': 'int', 'min': 2, 'max': 20}, 'min_samples_leaf': {'type': 'int', 'min': 1, 'max': 20}}}\n"
     ]
    },
    {
     "name": "stderr",
     "output_type": "stream",
     "text": [
      "[I 2024-11-26 16:52:06,453] Trial 2 finished with value: 0.9548061810429342 and parameters: {'n_estimators': 94, 'max_depth': 26, 'min_samples_split': 10, 'min_samples_leaf': 10}. Best is trial 2 with value: 0.9548061810429342.\n"
     ]
    },
    {
     "name": "stdout",
     "output_type": "stream",
     "text": [
      "params; {'n_estimators': 156, 'max_depth': 27, 'min_samples_split': 13, 'min_samples_leaf': 8}\n",
      "model_config; {'module': 'sklearn.ensemble', 'class': 'RandomForestClassifier', 'short_name': 'RandomForest', 'parameters': {'n_estimators': {'type': 'int', 'min': 50, 'max': 300}, 'max_depth': {'type': 'int', 'min': 2, 'max': 30}, 'min_samples_split': {'type': 'int', 'min': 2, 'max': 20}, 'min_samples_leaf': {'type': 'int', 'min': 1, 'max': 20}}}\n"
     ]
    },
    {
     "name": "stderr",
     "output_type": "stream",
     "text": [
      "[I 2024-11-26 16:52:07,382] Trial 3 finished with value: 0.9575963648246993 and parameters: {'n_estimators': 156, 'max_depth': 27, 'min_samples_split': 13, 'min_samples_leaf': 8}. Best is trial 3 with value: 0.9575963648246993.\n"
     ]
    },
    {
     "name": "stdout",
     "output_type": "stream",
     "text": [
      "params; {'n_estimators': 50, 'max_depth': 29, 'min_samples_split': 11, 'min_samples_leaf': 13}\n",
      "model_config; {'module': 'sklearn.ensemble', 'class': 'RandomForestClassifier', 'short_name': 'RandomForest', 'parameters': {'n_estimators': {'type': 'int', 'min': 50, 'max': 300}, 'max_depth': {'type': 'int', 'min': 2, 'max': 30}, 'min_samples_split': {'type': 'int', 'min': 2, 'max': 20}, 'min_samples_leaf': {'type': 'int', 'min': 1, 'max': 20}}}\n"
     ]
    },
    {
     "name": "stderr",
     "output_type": "stream",
     "text": [
      "[I 2024-11-26 16:52:07,682] Trial 4 finished with value: 0.9509017911330357 and parameters: {'n_estimators': 50, 'max_depth': 29, 'min_samples_split': 11, 'min_samples_leaf': 13}. Best is trial 3 with value: 0.9575963648246993.\n"
     ]
    },
    {
     "name": "stdout",
     "output_type": "stream",
     "text": [
      "params; {'n_estimators': 111, 'max_depth': 7, 'min_samples_split': 6, 'min_samples_leaf': 16}\n",
      "model_config; {'module': 'sklearn.ensemble', 'class': 'RandomForestClassifier', 'short_name': 'RandomForest', 'parameters': {'n_estimators': {'type': 'int', 'min': 50, 'max': 300}, 'max_depth': {'type': 'int', 'min': 2, 'max': 30}, 'min_samples_split': {'type': 'int', 'min': 2, 'max': 20}, 'min_samples_leaf': {'type': 'int', 'min': 1, 'max': 20}}}\n"
     ]
    },
    {
     "name": "stderr",
     "output_type": "stream",
     "text": [
      "[I 2024-11-26 16:52:08,368] Trial 5 finished with value: 0.9514557818894819 and parameters: {'n_estimators': 111, 'max_depth': 7, 'min_samples_split': 6, 'min_samples_leaf': 16}. Best is trial 3 with value: 0.9575963648246993.\n"
     ]
    },
    {
     "name": "stdout",
     "output_type": "stream",
     "text": [
      "params; {'n_estimators': 173, 'max_depth': 8, 'min_samples_split': 16, 'min_samples_leaf': 2}\n",
      "model_config; {'module': 'sklearn.ensemble', 'class': 'RandomForestClassifier', 'short_name': 'RandomForest', 'parameters': {'n_estimators': {'type': 'int', 'min': 50, 'max': 300}, 'max_depth': {'type': 'int', 'min': 2, 'max': 30}, 'min_samples_split': {'type': 'int', 'min': 2, 'max': 20}, 'min_samples_leaf': {'type': 'int', 'min': 1, 'max': 20}}}\n"
     ]
    },
    {
     "name": "stderr",
     "output_type": "stream",
     "text": [
      "[I 2024-11-26 16:52:09,432] Trial 6 finished with value: 0.9581503555811457 and parameters: {'n_estimators': 173, 'max_depth': 8, 'min_samples_split': 16, 'min_samples_leaf': 2}. Best is trial 6 with value: 0.9581503555811457.\n"
     ]
    },
    {
     "name": "stdout",
     "output_type": "stream",
     "text": [
      "params; {'n_estimators': 284, 'max_depth': 27, 'min_samples_split': 8, 'min_samples_leaf': 14}\n",
      "model_config; {'module': 'sklearn.ensemble', 'class': 'RandomForestClassifier', 'short_name': 'RandomForest', 'parameters': {'n_estimators': {'type': 'int', 'min': 50, 'max': 300}, 'max_depth': {'type': 'int', 'min': 2, 'max': 30}, 'min_samples_split': {'type': 'int', 'min': 2, 'max': 20}, 'min_samples_leaf': {'type': 'int', 'min': 1, 'max': 20}}}\n"
     ]
    },
    {
     "name": "stderr",
     "output_type": "stream",
     "text": [
      "[I 2024-11-26 16:52:11,110] Trial 7 finished with value: 0.9514588941971024 and parameters: {'n_estimators': 284, 'max_depth': 27, 'min_samples_split': 8, 'min_samples_leaf': 14}. Best is trial 6 with value: 0.9581503555811457.\n"
     ]
    },
    {
     "name": "stdout",
     "output_type": "stream",
     "text": [
      "params; {'n_estimators': 173, 'max_depth': 21, 'min_samples_split': 10, 'min_samples_leaf': 3}\n",
      "model_config; {'module': 'sklearn.ensemble', 'class': 'RandomForestClassifier', 'short_name': 'RandomForest', 'parameters': {'n_estimators': {'type': 'int', 'min': 50, 'max': 300}, 'max_depth': {'type': 'int', 'min': 2, 'max': 30}, 'min_samples_split': {'type': 'int', 'min': 2, 'max': 20}, 'min_samples_leaf': {'type': 'int', 'min': 1, 'max': 20}}}\n"
     ]
    },
    {
     "name": "stderr",
     "output_type": "stream",
     "text": [
      "[I 2024-11-26 16:52:12,191] Trial 8 finished with value: 0.9581519117349557 and parameters: {'n_estimators': 173, 'max_depth': 21, 'min_samples_split': 10, 'min_samples_leaf': 3}. Best is trial 8 with value: 0.9581519117349557.\n"
     ]
    },
    {
     "name": "stdout",
     "output_type": "stream",
     "text": [
      "params; {'n_estimators': 268, 'max_depth': 26, 'min_samples_split': 16, 'min_samples_leaf': 3}\n",
      "model_config; {'module': 'sklearn.ensemble', 'class': 'RandomForestClassifier', 'short_name': 'RandomForest', 'parameters': {'n_estimators': {'type': 'int', 'min': 50, 'max': 300}, 'max_depth': {'type': 'int', 'min': 2, 'max': 30}, 'min_samples_split': {'type': 'int', 'min': 2, 'max': 20}, 'min_samples_leaf': {'type': 'int', 'min': 1, 'max': 20}}}\n"
     ]
    },
    {
     "name": "stderr",
     "output_type": "stream",
     "text": [
      "[I 2024-11-26 16:52:13,852] Trial 9 finished with value: 0.9587090147990226 and parameters: {'n_estimators': 268, 'max_depth': 26, 'min_samples_split': 16, 'min_samples_leaf': 3}. Best is trial 9 with value: 0.9587090147990226.\n"
     ]
    },
    {
     "name": "stdout",
     "output_type": "stream",
     "text": [
      "params; {'n_estimators': 279, 'max_depth': 17, 'min_samples_split': 20, 'min_samples_leaf': 19}\n",
      "model_config; {'module': 'sklearn.ensemble', 'class': 'RandomForestClassifier', 'short_name': 'RandomForest', 'parameters': {'n_estimators': {'type': 'int', 'min': 50, 'max': 300}, 'max_depth': {'type': 'int', 'min': 2, 'max': 30}, 'min_samples_split': {'type': 'int', 'min': 2, 'max': 20}, 'min_samples_leaf': {'type': 'int', 'min': 1, 'max': 20}}}\n"
     ]
    },
    {
     "name": "stderr",
     "output_type": "stream",
     "text": [
      "[I 2024-11-26 16:52:15,379] Trial 10 finished with value: 0.9486687104153375 and parameters: {'n_estimators': 279, 'max_depth': 17, 'min_samples_split': 20, 'min_samples_leaf': 19}. Best is trial 9 with value: 0.9587090147990226.\n"
     ]
    },
    {
     "name": "stdout",
     "output_type": "stream",
     "text": [
      "params; {'n_estimators': 226, 'max_depth': 21, 'min_samples_split': 16, 'min_samples_leaf': 1}\n",
      "model_config; {'module': 'sklearn.ensemble', 'class': 'RandomForestClassifier', 'short_name': 'RandomForest', 'parameters': {'n_estimators': {'type': 'int', 'min': 50, 'max': 300}, 'max_depth': {'type': 'int', 'min': 2, 'max': 30}, 'min_samples_split': {'type': 'int', 'min': 2, 'max': 20}, 'min_samples_leaf': {'type': 'int', 'min': 1, 'max': 20}}}\n"
     ]
    },
    {
     "name": "stderr",
     "output_type": "stream",
     "text": [
      "[I 2024-11-26 16:52:16,834] Trial 11 finished with value: 0.9570314809915812 and parameters: {'n_estimators': 226, 'max_depth': 21, 'min_samples_split': 16, 'min_samples_leaf': 1}. Best is trial 9 with value: 0.9587090147990226.\n"
     ]
    },
    {
     "name": "stdout",
     "output_type": "stream",
     "text": [
      "params; {'n_estimators': 224, 'max_depth': 21, 'min_samples_split': 2, 'min_samples_leaf': 5}\n",
      "model_config; {'module': 'sklearn.ensemble', 'class': 'RandomForestClassifier', 'short_name': 'RandomForest', 'parameters': {'n_estimators': {'type': 'int', 'min': 50, 'max': 300}, 'max_depth': {'type': 'int', 'min': 2, 'max': 30}, 'min_samples_split': {'type': 'int', 'min': 2, 'max': 20}, 'min_samples_leaf': {'type': 'int', 'min': 1, 'max': 20}}}\n"
     ]
    },
    {
     "name": "stderr",
     "output_type": "stream",
     "text": [
      "[I 2024-11-26 16:52:18,350] Trial 12 finished with value: 0.9598278893885871 and parameters: {'n_estimators': 224, 'max_depth': 21, 'min_samples_split': 2, 'min_samples_leaf': 5}. Best is trial 12 with value: 0.9598278893885871.\n"
     ]
    },
    {
     "name": "stdout",
     "output_type": "stream",
     "text": [
      "params; {'n_estimators': 232, 'max_depth': 22, 'min_samples_split': 3, 'min_samples_leaf': 5}\n",
      "model_config; {'module': 'sklearn.ensemble', 'class': 'RandomForestClassifier', 'short_name': 'RandomForest', 'parameters': {'n_estimators': {'type': 'int', 'min': 50, 'max': 300}, 'max_depth': {'type': 'int', 'min': 2, 'max': 30}, 'min_samples_split': {'type': 'int', 'min': 2, 'max': 20}, 'min_samples_leaf': {'type': 'int', 'min': 1, 'max': 20}}}\n"
     ]
    },
    {
     "name": "stderr",
     "output_type": "stream",
     "text": [
      "[I 2024-11-26 16:52:19,855] Trial 13 finished with value: 0.9609389832091002 and parameters: {'n_estimators': 232, 'max_depth': 22, 'min_samples_split': 3, 'min_samples_leaf': 5}. Best is trial 13 with value: 0.9609389832091002.\n"
     ]
    },
    {
     "name": "stdout",
     "output_type": "stream",
     "text": [
      "params; {'n_estimators': 226, 'max_depth': 20, 'min_samples_split': 2, 'min_samples_leaf': 6}\n",
      "model_config; {'module': 'sklearn.ensemble', 'class': 'RandomForestClassifier', 'short_name': 'RandomForest', 'parameters': {'n_estimators': {'type': 'int', 'min': 50, 'max': 300}, 'max_depth': {'type': 'int', 'min': 2, 'max': 30}, 'min_samples_split': {'type': 'int', 'min': 2, 'max': 20}, 'min_samples_leaf': {'type': 'int', 'min': 1, 'max': 20}}}\n"
     ]
    },
    {
     "name": "stderr",
     "output_type": "stream",
     "text": [
      "[I 2024-11-26 16:52:21,421] Trial 14 finished with value: 0.9592661178630895 and parameters: {'n_estimators': 226, 'max_depth': 20, 'min_samples_split': 2, 'min_samples_leaf': 6}. Best is trial 13 with value: 0.9609389832091002.\n"
     ]
    },
    {
     "name": "stdout",
     "output_type": "stream",
     "text": [
      "params; {'n_estimators': 214, 'max_depth': 13, 'min_samples_split': 2, 'min_samples_leaf': 5}\n",
      "model_config; {'module': 'sklearn.ensemble', 'class': 'RandomForestClassifier', 'short_name': 'RandomForest', 'parameters': {'n_estimators': {'type': 'int', 'min': 50, 'max': 300}, 'max_depth': {'type': 'int', 'min': 2, 'max': 30}, 'min_samples_split': {'type': 'int', 'min': 2, 'max': 20}, 'min_samples_leaf': {'type': 'int', 'min': 1, 'max': 20}}}\n"
     ]
    },
    {
     "name": "stderr",
     "output_type": "stream",
     "text": [
      "[I 2024-11-26 16:52:22,889] Trial 15 finished with value: 0.9603818801450335 and parameters: {'n_estimators': 214, 'max_depth': 13, 'min_samples_split': 2, 'min_samples_leaf': 5}. Best is trial 13 with value: 0.9609389832091002.\n"
     ]
    },
    {
     "name": "stdout",
     "output_type": "stream",
     "text": [
      "params; {'n_estimators': 245, 'max_depth': 2, 'min_samples_split': 4, 'min_samples_leaf': 6}\n",
      "model_config; {'module': 'sklearn.ensemble', 'class': 'RandomForestClassifier', 'short_name': 'RandomForest', 'parameters': {'n_estimators': {'type': 'int', 'min': 50, 'max': 300}, 'max_depth': {'type': 'int', 'min': 2, 'max': 30}, 'min_samples_split': {'type': 'int', 'min': 2, 'max': 20}, 'min_samples_leaf': {'type': 'int', 'min': 1, 'max': 20}}}\n"
     ]
    },
    {
     "name": "stderr",
     "output_type": "stream",
     "text": [
      "[I 2024-11-26 16:52:23,852] Trial 16 finished with value: 0.9375017506730365 and parameters: {'n_estimators': 245, 'max_depth': 2, 'min_samples_split': 4, 'min_samples_leaf': 6}. Best is trial 13 with value: 0.9609389832091002.\n"
     ]
    },
    {
     "name": "stdout",
     "output_type": "stream",
     "text": [
      "params; {'n_estimators': 201, 'max_depth': 13, 'min_samples_split': 5, 'min_samples_leaf': 7}\n",
      "model_config; {'module': 'sklearn.ensemble', 'class': 'RandomForestClassifier', 'short_name': 'RandomForest', 'parameters': {'n_estimators': {'type': 'int', 'min': 50, 'max': 300}, 'max_depth': {'type': 'int', 'min': 2, 'max': 30}, 'min_samples_split': {'type': 'int', 'min': 2, 'max': 20}, 'min_samples_leaf': {'type': 'int', 'min': 1, 'max': 20}}}\n"
     ]
    },
    {
     "name": "stderr",
     "output_type": "stream",
     "text": [
      "[I 2024-11-26 16:52:25,125] Trial 17 finished with value: 0.9587105709528329 and parameters: {'n_estimators': 201, 'max_depth': 13, 'min_samples_split': 5, 'min_samples_leaf': 7}. Best is trial 13 with value: 0.9609389832091002.\n"
     ]
    },
    {
     "name": "stdout",
     "output_type": "stream",
     "text": [
      "params; {'n_estimators': 147, 'max_depth': 9, 'min_samples_split': 4, 'min_samples_leaf': 4}\n",
      "model_config; {'module': 'sklearn.ensemble', 'class': 'RandomForestClassifier', 'short_name': 'RandomForest', 'parameters': {'n_estimators': {'type': 'int', 'min': 50, 'max': 300}, 'max_depth': {'type': 'int', 'min': 2, 'max': 30}, 'min_samples_split': {'type': 'int', 'min': 2, 'max': 20}, 'min_samples_leaf': {'type': 'int', 'min': 1, 'max': 20}}}\n"
     ]
    },
    {
     "name": "stderr",
     "output_type": "stream",
     "text": [
      "[I 2024-11-26 16:52:26,247] Trial 18 finished with value: 0.9592676740168997 and parameters: {'n_estimators': 147, 'max_depth': 9, 'min_samples_split': 4, 'min_samples_leaf': 4}. Best is trial 13 with value: 0.9609389832091002.\n"
     ]
    },
    {
     "name": "stdout",
     "output_type": "stream",
     "text": [
      "params; {'n_estimators': 200, 'max_depth': 17, 'min_samples_split': 2, 'min_samples_leaf': 12}\n",
      "model_config; {'module': 'sklearn.ensemble', 'class': 'RandomForestClassifier', 'short_name': 'RandomForest', 'parameters': {'n_estimators': {'type': 'int', 'min': 50, 'max': 300}, 'max_depth': {'type': 'int', 'min': 2, 'max': 30}, 'min_samples_split': {'type': 'int', 'min': 2, 'max': 20}, 'min_samples_leaf': {'type': 'int', 'min': 1, 'max': 20}}}\n"
     ]
    },
    {
     "name": "stderr",
     "output_type": "stream",
     "text": [
      "[I 2024-11-26 16:52:27,419] Trial 19 finished with value: 0.9531286472354928 and parameters: {'n_estimators': 200, 'max_depth': 17, 'min_samples_split': 2, 'min_samples_leaf': 12}. Best is trial 13 with value: 0.9609389832091002.\n"
     ]
    },
    {
     "name": "stdout",
     "output_type": "stream",
     "text": [
      "params; {'n_estimators': 232, 'max_depth': 22, 'min_samples_split': 3, 'min_samples_leaf': 5}\n",
      "model_config; {'module': 'sklearn.ensemble', 'class': 'RandomForestClassifier', 'short_name': 'RandomForest', 'parameters': {'n_estimators': {'type': 'int', 'min': 50, 'max': 300}, 'max_depth': {'type': 'int', 'min': 2, 'max': 30}, 'min_samples_split': {'type': 'int', 'min': 2, 'max': 20}, 'min_samples_leaf': {'type': 'int', 'min': 1, 'max': 20}}}\n",
      "Best RandomForestClassifier Params: {'n_estimators': 232, 'max_depth': 22, 'min_samples_split': 3, 'min_samples_leaf': 5}\n",
      "Best RandomForestClassifier Score: 0.9609\n"
     ]
    }
   ],
   "source": [
    "best_models = model_factory.run(X_train, y_train)"
   ]
  },
  {
   "cell_type": "code",
   "execution_count": 13,
   "metadata": {},
   "outputs": [
    {
     "name": "stdout",
     "output_type": "stream",
     "text": [
      "Model: AdaBoostClassifier\n",
      "best_model: AdaBoostClassifier(algorithm='SAMME', learning_rate=0.07957983364839448,\n",
      "                   n_estimators=420)\n",
      "Best Parameters: {'n_estimators': 420, 'learning_rate': 0.07957983364839448}\n",
      "Best Score: 0.9431\n",
      "Model: RandomForestClassifier\n",
      "best_model: RandomForestClassifier(max_depth=22, min_samples_leaf=5, min_samples_split=3,\n",
      "                       n_estimators=232)\n",
      "Best Parameters: {'n_estimators': 232, 'max_depth': 22, 'min_samples_split': 3, 'min_samples_leaf': 5}\n",
      "Best Score: 0.9609\n"
     ]
    }
   ],
   "source": [
    "# Display the results\n",
    "for best_model in best_models:\n",
    "    print(f\"Model: {best_model.model_name}\")\n",
    "    print(f\"best_model: {best_model.best_model}\")\n",
    "    print(f\"Best Parameters: {best_model.best_params}\")\n",
    "    print(f\"Best Score: {best_model.best_score:.4f}\")"
   ]
  },
  {
   "cell_type": "code",
   "execution_count": 14,
   "metadata": {},
   "outputs": [
    {
     "name": "stdout",
     "output_type": "stream",
     "text": [
      "\n",
      "Evaluating Model: AdaBoostClassifier\n",
      "Test Accuracy: 0.2790\n",
      "Test Precision: 0.2928\n",
      "Test Recall: 0.2790\n",
      "Test F1 Score: 0.2835\n",
      "\n",
      "Classification Report:\n",
      "              precision    recall  f1-score   support\n",
      "\n",
      "           0       0.00      0.00      0.00       192\n",
      "           1       0.09      0.13      0.10       134\n",
      "           2       0.98      0.88      0.93       122\n",
      "\n",
      "    accuracy                           0.28       448\n",
      "   macro avg       0.36      0.34      0.34       448\n",
      "weighted avg       0.29      0.28      0.28       448\n",
      "\n",
      "Predictions for AdaBoostClassifier: [1 1 2 2 1]\n",
      "\n",
      "Evaluating Model: RandomForestClassifier\n",
      "Test Accuracy: 0.2545\n",
      "Test Precision: 0.2863\n",
      "Test Recall: 0.2545\n",
      "Test F1 Score: 0.2686\n",
      "\n",
      "Classification Report:\n",
      "              precision    recall  f1-score   support\n",
      "\n",
      "           0       0.01      0.01      0.01       192\n",
      "           1       0.04      0.05      0.04       134\n",
      "           2       0.99      0.86      0.92       122\n",
      "\n",
      "    accuracy                           0.25       448\n",
      "   macro avg       0.35      0.31      0.33       448\n",
      "weighted avg       0.29      0.25      0.27       448\n",
      "\n",
      "Predictions for RandomForestClassifier: [1 1 2 2 1]\n",
      "Truth value for y_test: [0, 0, 2, 2, 0]\n"
     ]
    }
   ],
   "source": [
    "from sklearn.metrics import accuracy_score, f1_score, classification_report, precision_score, recall_score\n",
    "\n",
    "#Use the best models for predictions\n",
    "for best_model in best_models:\n",
    "    print(f\"\\nEvaluating Model: {best_model.model_name}\")\n",
    "\n",
    "    # Train the best model on the training set\n",
    "    trained_model = best_model.best_model.fit(X_train, y_train)\n",
    "    y_pred = trained_model.predict(X_test)\n",
    "\n",
    "    # Calculate evaluation metrics\n",
    "    accuracy = accuracy_score(y_test, y_pred)\n",
    "    precision = precision_score(y_test, y_pred, average=\"weighted\")\n",
    "    recall = recall_score(y_test, y_pred, average=\"weighted\")\n",
    "    f1 = f1_score(y_test, y_pred, average=\"weighted\")\n",
    "\n",
    "    print(f\"Test Accuracy: {accuracy:.4f}\")\n",
    "    print(f\"Test Precision: {precision:.4f}\")\n",
    "    print(f\"Test Recall: {recall:.4f}\")\n",
    "    print(f\"Test F1 Score: {f1:.4f}\")\n",
    "    print(\"\\nClassification Report:\")\n",
    "    print(classification_report(y_test, y_pred))\n",
    "\n",
    "    print(f\"Predictions for {best_model.model_name}: {y_pred[:5]}\")\n",
    "print(f\"Truth value for y_test: {y_test[:5].to_list()}\")"
   ]
  },
  {
   "cell_type": "code",
   "execution_count": null,
   "metadata": {},
   "outputs": [],
   "source": []
  }
 ],
 "metadata": {
  "kernelspec": {
   "display_name": "venv311_marketing",
   "language": "python",
   "name": "python3"
  },
  "language_info": {
   "codemirror_mode": {
    "name": "ipython",
    "version": 3
   },
   "file_extension": ".py",
   "mimetype": "text/x-python",
   "name": "python",
   "nbconvert_exporter": "python",
   "pygments_lexer": "ipython3",
   "version": "3.11.10"
  }
 },
 "nbformat": 4,
 "nbformat_minor": 2
}
